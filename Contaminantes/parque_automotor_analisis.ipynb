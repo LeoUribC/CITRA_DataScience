{
 "cells": [
  {
   "cell_type": "markdown",
   "metadata": {},
   "source": [
    "## **Información del parque automotor**\n",
    "\n",
    "*Nota: traer el archivo \"parque-automotor.csv\" al espacio de trabajo actual*"
   ]
  },
  {
   "cell_type": "code",
   "execution_count": 1,
   "metadata": {},
   "outputs": [],
   "source": [
    "import pandas as pd\n",
    "import numpy as np\n",
    "import seaborn as sns\n",
    "import matplotlib.pyplot as plt"
   ]
  },
  {
   "cell_type": "code",
   "execution_count": 2,
   "metadata": {},
   "outputs": [],
   "source": [
    "#datosParqueAutomotor = pd.read_csv(\"parque-automotor.csv\")\n",
    "#datosParqueAutomotor"
   ]
  },
  {
   "cell_type": "code",
   "execution_count": 3,
   "metadata": {},
   "outputs": [
    {
     "data": {
      "text/plain": [
       "1834643"
      ]
     },
     "execution_count": 3,
     "metadata": {},
     "output_type": "execute_result"
    }
   ],
   "source": [
    "len(datosParqueAutomotor[\"PLACA\"].unique())"
   ]
  },
  {
   "cell_type": "code",
   "execution_count": 6,
   "metadata": {},
   "outputs": [
    {
     "data": {
      "text/plain": [
       "array(['Medellín', 'STRIA DE TTOyTTE MEDELLIN', 'Envigado', 'Sabaneta',\n",
       "       'Girardota', 'Bello', 'Barbosa', 'DIR TTEyTTO  MCPAL BARBOSA',\n",
       "       'STRIA TTEyTTO BELLO', 'STRIA TTOyTTE MCPAL SABANETA',\n",
       "       'La Estrella', 'STRIA TTOYTTE MCPAL LA ESTRELLA',\n",
       "       'STRIA TTEYTTO CALDAS', 'Caldas', 'STRIA TTEyTTO COPACABANA',\n",
       "       'Copacabana', 'STRIA TTEyTTO ENVIGADO', 'Itagüí',\n",
       "       'STRIA TTEyTTO ITAGUI', 'STRIA TTEyTTO GIRARDOTA', nan],\n",
       "      dtype=object)"
      ]
     },
     "execution_count": 6,
     "metadata": {},
     "output_type": "execute_result"
    }
   ],
   "source": [
    "datosParqueAutomotor[\"NOMBRE_SECRETARIA\"].unique()"
   ]
  },
  {
   "cell_type": "code",
   "execution_count": null,
   "metadata": {},
   "outputs": [],
   "source": [
    "sns.set_theme(style=\"dark\")\n",
    "\n",
    "fig = plt.figure(figsize=(10,7))\n",
    "ax = plt.axes()\n",
    "\n",
    "sns.histplot(\n",
    "    data = datosParqueAutomotor,\n",
    "    x = \"TIPO_COMBUSTIBLE\"\n",
    ")"
   ]
  },
  {
   "cell_type": "code",
   "execution_count": null,
   "metadata": {},
   "outputs": [],
   "source": []
  }
 ],
 "metadata": {
  "kernelspec": {
   "display_name": "Python 3.9.12 ('base')",
   "language": "python",
   "name": "python3"
  },
  "language_info": {
   "codemirror_mode": {
    "name": "ipython",
    "version": 3
   },
   "file_extension": ".py",
   "mimetype": "text/x-python",
   "name": "python",
   "nbconvert_exporter": "python",
   "pygments_lexer": "ipython3",
   "version": "3.9.12"
  },
  "orig_nbformat": 4,
  "vscode": {
   "interpreter": {
    "hash": "994f46eab4e1285472453dde163a6ada391509d2a0b6b2b48b045f1d8d786a5c"
   }
  }
 },
 "nbformat": 4,
 "nbformat_minor": 2
}
