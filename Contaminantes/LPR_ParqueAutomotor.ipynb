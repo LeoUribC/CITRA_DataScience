{
 "cells": [
  {
   "cell_type": "markdown",
   "metadata": {},
   "source": [
    "## **Información a partir de cámaras LPR y parque automotor**"
   ]
  },
  {
   "cell_type": "code",
   "execution_count": 1,
   "metadata": {},
   "outputs": [],
   "source": [
    "import pandas as pd\n",
    "import numpy as np\n",
    "from elasticsearch import Elasticsearch\n",
    "import eland as ed\n",
    "import warnings\n",
    "\n",
    "warnings.filterwarnings('ignore')"
   ]
  },
  {
   "cell_type": "code",
   "execution_count": 2,
   "metadata": {},
   "outputs": [],
   "source": [
    "# realizamos la consulta a elasticsearch para obtener los datos\n",
    "cluster = ['https://10.11.230.21:9200','https://10.11.230.23:9200','https://10.11.230.24:9200','https://10.11.230.25:9200']\n",
    "api_key = {\n",
    "  \"id\" : \"JN4fnX8Bo8wBqoXyPtks\",\n",
    "  \"name\" : \"api-key-inventario-estado-cilo-infra\",\n",
    "  \"api_key\" : \"4tyBXnMvTyyYUUpmZgG8xw\"\n",
    "}"
   ]
  },
  {
   "cell_type": "code",
   "execution_count": 3,
   "metadata": {},
   "outputs": [],
   "source": [
    "es = Elasticsearch(\n",
    "    cluster, \n",
    "    api_key=(api_key['id'], api_key['api_key']) ,\n",
    "    verify_certs=False, \n",
    "    timeout=100\n",
    ")"
   ]
  },
  {
   "cell_type": "code",
   "execution_count": 4,
   "metadata": {},
   "outputs": [],
   "source": [
    "df = ed.DataFrame(es, es_index_pattern='restored_lpr-siesm')"
   ]
  },
  {
   "cell_type": "code",
   "execution_count": null,
   "metadata": {},
   "outputs": [],
   "source": [
    "query = {\n",
    "    \n",
    "}"
   ]
  },
  {
   "cell_type": "code",
   "execution_count": null,
   "metadata": {},
   "outputs": [],
   "source": [
    "df.es_query(query)"
   ]
  }
 ],
 "metadata": {
  "kernelspec": {
   "display_name": "Python 3.9.12 ('base')",
   "language": "python",
   "name": "python3"
  },
  "language_info": {
   "codemirror_mode": {
    "name": "ipython",
    "version": 3
   },
   "file_extension": ".py",
   "mimetype": "text/x-python",
   "name": "python",
   "nbconvert_exporter": "python",
   "pygments_lexer": "ipython3",
   "version": "3.9.12"
  },
  "orig_nbformat": 4,
  "vscode": {
   "interpreter": {
    "hash": "994f46eab4e1285472453dde163a6ada391509d2a0b6b2b48b045f1d8d786a5c"
   }
  }
 },
 "nbformat": 4,
 "nbformat_minor": 2
}
